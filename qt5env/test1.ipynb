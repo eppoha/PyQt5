{
 "cells": [
  {
   "cell_type": "code",
   "execution_count": 1,
   "metadata": {},
   "outputs": [
    {
     "ename": "SystemExit",
     "evalue": "0",
     "output_type": "error",
     "traceback": [
      "An exception has occurred, use %tb to see the full traceback.\n",
      "\u001b[0;31mSystemExit\u001b[0m\u001b[0;31m:\u001b[0m 0\n"
     ]
    },
    {
     "name": "stderr",
     "output_type": "stream",
     "text": [
      "/home/pre7560/miniconda3/lib/python3.7/site-packages/IPython/core/interactiveshell.py:3465: UserWarning: To exit: use 'exit', 'quit', or Ctrl-D.\n",
      "  warn(\"To exit: use 'exit', 'quit', or Ctrl-D.\", stacklevel=1)\n"
     ]
    }
   ],
   "source": [
    "import sys\n",
    "# PyQt5.QtWidgets 模块，这个模块包含了窗口最基本的组件。\n",
    "from PyQt5.QtWidgets import QApplication, QWidget\n",
    "\n",
    "if __name__ == '__main__':\n",
    "    # 每个 PyQt5 应用都必须创建一个应用对象。\n",
    "    # sys.argv 是一组命令行参数的列表，Python 可以在 shell 里运行，\n",
    "    # 这个参数提供对脚本控制的功能。\n",
    "    app = QApplication(sys.argv)\n",
    "    \n",
    "    # QWidge 控件是一个用户界面的基本控件，它提供了基本的应用构造器。\n",
    "    # 默认情况下，构造器是没有父级的，没有父级的构造器被称为窗口。\n",
    "    w = QWidget()\n",
    "\n",
    "    # 设置位置、大小\n",
    "    # resize()：可改变控件的大小，这里将窗口的宽设为 250px，高设为 150px。\n",
    "    w.resize(250, 150)\n",
    "    # move()：修改控件位置的，将控件放置到屏幕坐标 (300, 300) 的位置。\n",
    "    # 注：屏幕坐标系的原点是屏幕的左上角。\n",
    "    w.move(300, 300)\n",
    "\n",
    "    # 设置标题\n",
    "    # setWindowTitle()：给窗口添加标题。\n",
    "    w.setWindowTitle('Hello 我的第一个qt应用')\n",
    "\n",
    "    # 展示 UI 界面\n",
    "    # show()：让控件在桌面上显示出来（控件先在内存中创建，然后在显示器上显示）。\n",
    "    w.show()\n",
    "\n",
    "    # 退出\n",
    "    # 最后，程序进入了应用的主循环中，事件处理器这个时候开始工作。主循环从窗口上接收事件，并把事件派发到应用控件里。\n",
    "    # 当调用 exit() 方法或直接销毁主控件时，主循环就会结束。\n",
    "\n",
    "    # sys.exit()：让主循环安全退出。app.exec_() 执行应用程序，程序进入消息循环，等待用户操作，\n",
    "    # 当用户点击右上角的 × 时，窗口才会正常结束。如果不加这行代码，窗口会一闪而过。\n",
    "    # exec_() 之所以有个下划线，是因为 exec 是一个 Python 的关键字。\n",
    "    sys.exit(app.exec_())\n"
   ]
  },
  {
   "cell_type": "code",
   "execution_count": 2,
   "metadata": {},
   "outputs": [
    {
     "ename": "",
     "evalue": "",
     "output_type": "error",
     "traceback": [
      "\u001b[1;31mCanceled future for execute_request message before replies were done"
     ]
    },
    {
     "ename": "",
     "evalue": "",
     "output_type": "error",
     "traceback": [
      "\u001b[1;31mThe Kernel crashed while executing code in the the current cell or a previous cell. Please review the code in the cell(s) to identify a possible cause of the failure. Click <a href='https://aka.ms/vscodeJupyterKernelCrash'>here</a> for more info. View Jupyter <a href='command:jupyter.viewOutput'>log</a> for further details."
     ]
    }
   ],
   "source": [
    "# 1.导包\n",
    "import sys\n",
    "from PyQt5.QtWidgets import QApplication, QWidget\n",
    "\n",
    "# 2.创建窗口类\n",
    "# 继承 QWidge ，实例化 Example 就相当于实例化 QWidge。QWidge 控件是一个用户界面的基本控件，它提供了基本的应用构造器。默认情况下，构造器是没有父级的，没有父级的构造器被称为窗口。\n",
    "class Example(QWidget):\n",
    "    # 4.调用 initUI 方法\n",
    "    def __init__(self):\n",
    "\n",
    "    # 继承并调用 QWidge 的 `__init__()` 方法。\n",
    "        super().__init__()\n",
    "\n",
    "        self.initUI()\n",
    "\n",
    "    # 3.自定义 initUI 方法，功能：对窗口做以下列的操作\n",
    "    # 比如设置窗口的位置、大小、图标、标题等等\n",
    "    def initUI(self):\n",
    "\n",
    "        # 设置窗口大小、位置坐标\n",
    "        self.setGeometry(400, 300, 400, 300)\n",
    "\n",
    "        # 设置窗口标题\n",
    "        self.setWindowTitle('Hello 我的第一个qt应用')\n",
    "\n",
    "        # 展示 UI 界面。\n",
    "        self.show()\n",
    "\n",
    "\n",
    "# 5.实例化 Example 类，同学们可以当作此为一个固定写法\n",
    "if __name__ == '__main__':\n",
    "\n",
    "    app = QApplication(sys.argv)\n",
    "    e = Example()\n",
    "    sys.exit(app.exec_())\n"
   ]
  }
 ],
 "metadata": {
  "kernelspec": {
   "display_name": "Python 3.7.13 ('base')",
   "language": "python",
   "name": "python3"
  },
  "language_info": {
   "codemirror_mode": {
    "name": "ipython",
    "version": 3
   },
   "file_extension": ".py",
   "mimetype": "text/x-python",
   "name": "python",
   "nbconvert_exporter": "python",
   "pygments_lexer": "ipython3",
   "version": "3.7.13"
  },
  "orig_nbformat": 4,
  "vscode": {
   "interpreter": {
    "hash": "b349af1b1aaaa466089a61e9eed9b41212ce21d579615039c57f22cd5b13cdee"
   }
  }
 },
 "nbformat": 4,
 "nbformat_minor": 2
}
